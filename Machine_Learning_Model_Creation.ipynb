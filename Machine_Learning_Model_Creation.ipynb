{
 "cells": [
  {
   "cell_type": "code",
   "execution_count": 26,
   "id": "d16754a3",
   "metadata": {},
   "outputs": [],
   "source": [
    "import pandas as pd\n",
    "import matplotlib.pyplot as plt\n",
    "import seaborn as sns\n",
    "import numpy as np\n",
    "import chardet#for encoding\n",
    "import warnings# to avoid the warnings\n",
    "warnings.filterwarnings('ignore')\n",
    "pd.pandas.set_option('display.max_columns',0)"
   ]
  },
  {
   "cell_type": "code",
   "execution_count": 27,
   "id": "aba5dee3",
   "metadata": {},
   "outputs": [
    {
     "data": {
      "text/html": [
       "<div>\n",
       "<style scoped>\n",
       "    .dataframe tbody tr th:only-of-type {\n",
       "        vertical-align: middle;\n",
       "    }\n",
       "\n",
       "    .dataframe tbody tr th {\n",
       "        vertical-align: top;\n",
       "    }\n",
       "\n",
       "    .dataframe thead th {\n",
       "        text-align: right;\n",
       "    }\n",
       "</style>\n",
       "<table border=\"1\" class=\"dataframe\">\n",
       "  <thead>\n",
       "    <tr style=\"text-align: right;\">\n",
       "      <th></th>\n",
       "      <th>Lng</th>\n",
       "      <th>Lat</th>\n",
       "      <th>tradeTime</th>\n",
       "      <th>followers</th>\n",
       "      <th>totalPrice</th>\n",
       "      <th>square</th>\n",
       "      <th>livingRoom</th>\n",
       "      <th>drawingRoom</th>\n",
       "      <th>kitchen</th>\n",
       "      <th>bathRoom</th>\n",
       "      <th>constructionTime</th>\n",
       "      <th>ladderRatio</th>\n",
       "      <th>fiveYearsProperty</th>\n",
       "      <th>subway</th>\n",
       "      <th>communityAverage</th>\n",
       "      <th>floor_height</th>\n",
       "      <th>renovationCondition_2</th>\n",
       "      <th>renovationCondition_3</th>\n",
       "      <th>renovationCondition_4</th>\n",
       "      <th>buildingStructure_2</th>\n",
       "      <th>buildingStructure_3</th>\n",
       "      <th>buildingStructure_4</th>\n",
       "      <th>buildingStructure_5</th>\n",
       "      <th>buildingStructure_6</th>\n",
       "      <th>buildingType_2.0</th>\n",
       "      <th>buildingType_3.0</th>\n",
       "      <th>buildingType_4.0</th>\n",
       "      <th>district_2</th>\n",
       "      <th>district_3</th>\n",
       "      <th>district_4</th>\n",
       "      <th>district_5</th>\n",
       "      <th>district_6</th>\n",
       "      <th>district_7</th>\n",
       "      <th>district_8</th>\n",
       "      <th>district_9</th>\n",
       "      <th>district_10</th>\n",
       "      <th>district_11</th>\n",
       "      <th>district_12</th>\n",
       "      <th>district_13</th>\n",
       "      <th>elevator_1.0</th>\n",
       "      <th>floor_type_低</th>\n",
       "      <th>floor_type_底</th>\n",
       "      <th>floor_type_未知</th>\n",
       "      <th>floor_type_顶</th>\n",
       "      <th>floor_type_高</th>\n",
       "    </tr>\n",
       "  </thead>\n",
       "  <tbody>\n",
       "    <tr>\n",
       "      <th>0</th>\n",
       "      <td>0.630809</td>\n",
       "      <td>0.627253</td>\n",
       "      <td>2016</td>\n",
       "      <td>0.092738</td>\n",
       "      <td>415.0</td>\n",
       "      <td>0.272992</td>\n",
       "      <td>0.250</td>\n",
       "      <td>0.2</td>\n",
       "      <td>0.333333</td>\n",
       "      <td>0.142857</td>\n",
       "      <td>2005.0</td>\n",
       "      <td>2.028094e-08</td>\n",
       "      <td>0.0</td>\n",
       "      <td>1.0</td>\n",
       "      <td>0.262240</td>\n",
       "      <td>0.609756</td>\n",
       "      <td>False</td>\n",
       "      <td>True</td>\n",
       "      <td>False</td>\n",
       "      <td>False</td>\n",
       "      <td>False</td>\n",
       "      <td>False</td>\n",
       "      <td>False</td>\n",
       "      <td>True</td>\n",
       "      <td>False</td>\n",
       "      <td>False</td>\n",
       "      <td>False</td>\n",
       "      <td>False</td>\n",
       "      <td>False</td>\n",
       "      <td>False</td>\n",
       "      <td>False</td>\n",
       "      <td>False</td>\n",
       "      <td>True</td>\n",
       "      <td>False</td>\n",
       "      <td>False</td>\n",
       "      <td>False</td>\n",
       "      <td>False</td>\n",
       "      <td>False</td>\n",
       "      <td>False</td>\n",
       "      <td>True</td>\n",
       "      <td>False</td>\n",
       "      <td>False</td>\n",
       "      <td>False</td>\n",
       "      <td>False</td>\n",
       "      <td>True</td>\n",
       "    </tr>\n",
       "    <tr>\n",
       "      <th>1</th>\n",
       "      <td>0.597040</td>\n",
       "      <td>0.406733</td>\n",
       "      <td>2016</td>\n",
       "      <td>0.110236</td>\n",
       "      <td>575.0</td>\n",
       "      <td>0.276039</td>\n",
       "      <td>0.250</td>\n",
       "      <td>0.4</td>\n",
       "      <td>0.333333</td>\n",
       "      <td>0.285714</td>\n",
       "      <td>2004.0</td>\n",
       "      <td>6.523868e-08</td>\n",
       "      <td>1.0</td>\n",
       "      <td>0.0</td>\n",
       "      <td>0.352324</td>\n",
       "      <td>0.512195</td>\n",
       "      <td>False</td>\n",
       "      <td>False</td>\n",
       "      <td>True</td>\n",
       "      <td>False</td>\n",
       "      <td>False</td>\n",
       "      <td>False</td>\n",
       "      <td>False</td>\n",
       "      <td>True</td>\n",
       "      <td>False</td>\n",
       "      <td>False</td>\n",
       "      <td>False</td>\n",
       "      <td>False</td>\n",
       "      <td>False</td>\n",
       "      <td>False</td>\n",
       "      <td>False</td>\n",
       "      <td>False</td>\n",
       "      <td>True</td>\n",
       "      <td>False</td>\n",
       "      <td>False</td>\n",
       "      <td>False</td>\n",
       "      <td>False</td>\n",
       "      <td>False</td>\n",
       "      <td>False</td>\n",
       "      <td>True</td>\n",
       "      <td>False</td>\n",
       "      <td>False</td>\n",
       "      <td>False</td>\n",
       "      <td>False</td>\n",
       "      <td>True</td>\n",
       "    </tr>\n",
       "    <tr>\n",
       "      <th>3</th>\n",
       "      <td>0.572140</td>\n",
       "      <td>0.717698</td>\n",
       "      <td>2016</td>\n",
       "      <td>0.120735</td>\n",
       "      <td>297.5</td>\n",
       "      <td>0.279617</td>\n",
       "      <td>0.375</td>\n",
       "      <td>0.2</td>\n",
       "      <td>0.333333</td>\n",
       "      <td>0.142857</td>\n",
       "      <td>2008.0</td>\n",
       "      <td>2.587568e-08</td>\n",
       "      <td>0.0</td>\n",
       "      <td>0.0</td>\n",
       "      <td>0.234474</td>\n",
       "      <td>0.487805</td>\n",
       "      <td>False</td>\n",
       "      <td>False</td>\n",
       "      <td>False</td>\n",
       "      <td>False</td>\n",
       "      <td>False</td>\n",
       "      <td>False</td>\n",
       "      <td>False</td>\n",
       "      <td>True</td>\n",
       "      <td>False</td>\n",
       "      <td>False</td>\n",
       "      <td>False</td>\n",
       "      <td>False</td>\n",
       "      <td>False</td>\n",
       "      <td>False</td>\n",
       "      <td>False</td>\n",
       "      <td>True</td>\n",
       "      <td>False</td>\n",
       "      <td>False</td>\n",
       "      <td>False</td>\n",
       "      <td>False</td>\n",
       "      <td>False</td>\n",
       "      <td>False</td>\n",
       "      <td>False</td>\n",
       "      <td>True</td>\n",
       "      <td>False</td>\n",
       "      <td>True</td>\n",
       "      <td>False</td>\n",
       "      <td>False</td>\n",
       "      <td>False</td>\n",
       "    </tr>\n",
       "    <tr>\n",
       "      <th>4</th>\n",
       "      <td>0.557084</td>\n",
       "      <td>0.414236</td>\n",
       "      <td>2016</td>\n",
       "      <td>0.250219</td>\n",
       "      <td>392.0</td>\n",
       "      <td>0.162585</td>\n",
       "      <td>0.250</td>\n",
       "      <td>0.2</td>\n",
       "      <td>0.333333</td>\n",
       "      <td>0.142857</td>\n",
       "      <td>1960.0</td>\n",
       "      <td>3.187004e-08</td>\n",
       "      <td>1.0</td>\n",
       "      <td>1.0</td>\n",
       "      <td>0.300362</td>\n",
       "      <td>0.121951</td>\n",
       "      <td>True</td>\n",
       "      <td>False</td>\n",
       "      <td>False</td>\n",
       "      <td>True</td>\n",
       "      <td>False</td>\n",
       "      <td>False</td>\n",
       "      <td>False</td>\n",
       "      <td>False</td>\n",
       "      <td>False</td>\n",
       "      <td>False</td>\n",
       "      <td>True</td>\n",
       "      <td>False</td>\n",
       "      <td>False</td>\n",
       "      <td>False</td>\n",
       "      <td>False</td>\n",
       "      <td>False</td>\n",
       "      <td>False</td>\n",
       "      <td>False</td>\n",
       "      <td>False</td>\n",
       "      <td>False</td>\n",
       "      <td>False</td>\n",
       "      <td>False</td>\n",
       "      <td>False</td>\n",
       "      <td>False</td>\n",
       "      <td>False</td>\n",
       "      <td>False</td>\n",
       "      <td>False</td>\n",
       "      <td>False</td>\n",
       "      <td>False</td>\n",
       "    </tr>\n",
       "    <tr>\n",
       "      <th>5</th>\n",
       "      <td>0.616393</td>\n",
       "      <td>0.582255</td>\n",
       "      <td>2016</td>\n",
       "      <td>0.049869</td>\n",
       "      <td>275.6</td>\n",
       "      <td>0.100757</td>\n",
       "      <td>0.125</td>\n",
       "      <td>0.0</td>\n",
       "      <td>0.333333</td>\n",
       "      <td>0.142857</td>\n",
       "      <td>2005.0</td>\n",
       "      <td>3.187004e-08</td>\n",
       "      <td>1.0</td>\n",
       "      <td>0.0</td>\n",
       "      <td>0.330259</td>\n",
       "      <td>0.170732</td>\n",
       "      <td>False</td>\n",
       "      <td>True</td>\n",
       "      <td>False</td>\n",
       "      <td>False</td>\n",
       "      <td>False</td>\n",
       "      <td>False</td>\n",
       "      <td>False</td>\n",
       "      <td>True</td>\n",
       "      <td>False</td>\n",
       "      <td>False</td>\n",
       "      <td>True</td>\n",
       "      <td>False</td>\n",
       "      <td>False</td>\n",
       "      <td>False</td>\n",
       "      <td>False</td>\n",
       "      <td>False</td>\n",
       "      <td>True</td>\n",
       "      <td>False</td>\n",
       "      <td>False</td>\n",
       "      <td>False</td>\n",
       "      <td>False</td>\n",
       "      <td>False</td>\n",
       "      <td>False</td>\n",
       "      <td>True</td>\n",
       "      <td>False</td>\n",
       "      <td>False</td>\n",
       "      <td>False</td>\n",
       "      <td>False</td>\n",
       "      <td>False</td>\n",
       "    </tr>\n",
       "  </tbody>\n",
       "</table>\n",
       "</div>"
      ],
      "text/plain": [
       "        Lng       Lat  tradeTime  ...  floor_type_未知  floor_type_顶  floor_type_高\n",
       "0  0.630809  0.627253       2016  ...          False         False          True\n",
       "1  0.597040  0.406733       2016  ...          False         False          True\n",
       "3  0.572140  0.717698       2016  ...          False         False         False\n",
       "4  0.557084  0.414236       2016  ...          False         False         False\n",
       "5  0.616393  0.582255       2016  ...          False         False         False\n",
       "\n",
       "[5 rows x 45 columns]"
      ]
     },
     "execution_count": 27,
     "metadata": {},
     "output_type": "execute_result"
    }
   ],
   "source": [
    "data=pd.read_csv(\"Data_For_Model.csv\",index_col=0)\n",
    "data.head()"
   ]
  },
  {
   "cell_type": "markdown",
   "id": "88309f44",
   "metadata": {},
   "source": [
    "Choosing Best Machine Learning Model,top features for our model are\n",
    "\n",
    "1> tradeTime\n",
    "\n",
    "2> CommunityAverage\n",
    "\n",
    "3> square\n",
    "\n",
    "4> livingRoom\n",
    "\n",
    "5> bathRoom\n",
    "\n",
    "6> drawingRoom\n",
    "\n",
    "7> renovationCondition\n",
    "\n",
    "8> buildingStructure\n",
    "\n",
    "9> elevator\n",
    "\n",
    "10> constructionTime\n",
    "\n",
    "11> Followers"
   ]
  },
  {
   "cell_type": "code",
   "execution_count": 28,
   "id": "22843ac6",
   "metadata": {},
   "outputs": [
    {
     "data": {
      "text/plain": [
       "Index(['Lng', 'Lat', 'tradeTime', 'followers', 'totalPrice', 'square',\n",
       "       'livingRoom', 'drawingRoom', 'kitchen', 'bathRoom', 'constructionTime',\n",
       "       'ladderRatio', 'fiveYearsProperty', 'subway', 'communityAverage',\n",
       "       'floor_height', 'renovationCondition_2', 'renovationCondition_3',\n",
       "       'renovationCondition_4', 'buildingStructure_2', 'buildingStructure_3',\n",
       "       'buildingStructure_4', 'buildingStructure_5', 'buildingStructure_6',\n",
       "       'buildingType_2.0', 'buildingType_3.0', 'buildingType_4.0',\n",
       "       'district_2', 'district_3', 'district_4', 'district_5', 'district_6',\n",
       "       'district_7', 'district_8', 'district_9', 'district_10', 'district_11',\n",
       "       'district_12', 'district_13', 'elevator_1.0', 'floor_type_低',\n",
       "       'floor_type_底', 'floor_type_未知', 'floor_type_顶', 'floor_type_高'],\n",
       "      dtype='object')"
      ]
     },
     "execution_count": 28,
     "metadata": {},
     "output_type": "execute_result"
    }
   ],
   "source": [
    "data.columns"
   ]
  },
  {
   "cell_type": "code",
   "execution_count": 29,
   "id": "88f39d95",
   "metadata": {},
   "outputs": [],
   "source": [
    "data.drop(columns=[\"Lng\",\"Lat\",\"ladderRatio\",\"fiveYearsProperty\",\"subway\",\"floor_height\",\n",
    "                  \"buildingType_2.0\",\"buildingType_3.0\",\"buildingType_4.0\",\"district_2\",\n",
    "                  \"district_3\",\"district_4\",\"district_5\",\"district_6\",\"district_7\",\n",
    "                  \"district_8\",\"district_9\",\"district_10\",\"district_11\",\"district_12\",\n",
    "                  \"district_13\",\"floor_type_低\",\"floor_type_底\",\"floor_type_未知\",\n",
    "                  \"floor_type_顶\",\"floor_type_高\"],inplace=True,axis=1)"
   ]
  },
  {
   "cell_type": "code",
   "execution_count": 30,
   "id": "b8df3ac3",
   "metadata": {},
   "outputs": [
    {
     "data": {
      "text/plain": [
       "(283869, 19)"
      ]
     },
     "execution_count": 30,
     "metadata": {},
     "output_type": "execute_result"
    }
   ],
   "source": [
    "data.shape"
   ]
  },
  {
   "cell_type": "code",
   "execution_count": 31,
   "id": "26f5ef94",
   "metadata": {},
   "outputs": [
    {
     "data": {
      "text/plain": [
       "Index(['tradeTime', 'followers', 'totalPrice', 'square', 'livingRoom',\n",
       "       'drawingRoom', 'kitchen', 'bathRoom', 'constructionTime',\n",
       "       'communityAverage', 'renovationCondition_2', 'renovationCondition_3',\n",
       "       'renovationCondition_4', 'buildingStructure_2', 'buildingStructure_3',\n",
       "       'buildingStructure_4', 'buildingStructure_5', 'buildingStructure_6',\n",
       "       'elevator_1.0'],\n",
       "      dtype='object')"
      ]
     },
     "execution_count": 31,
     "metadata": {},
     "output_type": "execute_result"
    }
   ],
   "source": [
    "data.columns"
   ]
  },
  {
   "cell_type": "markdown",
   "id": "2f6bfddb",
   "metadata": {},
   "source": [
    "List of the model that we can use for our problem\n",
    "\n",
    "1> LinearRegression model\n",
    "\n",
    "2> KNN Model\n",
    "\n",
    "3> Decesion Tree\n",
    "\n",
    "4> Random Forest"
   ]
  },
  {
   "cell_type": "code",
   "execution_count": 44,
   "id": "826088c7",
   "metadata": {},
   "outputs": [],
   "source": [
    "#input features for model\n",
    "X=data.drop(['totalPrice'],axis=1)\n",
    "#output features for model\n",
    "y=data['totalPrice']"
   ]
  },
  {
   "cell_type": "code",
   "execution_count": 45,
   "id": "01e5f41c",
   "metadata": {},
   "outputs": [],
   "source": [
    "from sklearn.model_selection import train_test_split\n",
    "X_train,X_test,y_train,y_test=train_test_split(X,y,test_size=0.30,random_state=2)"
   ]
  },
  {
   "cell_type": "code",
   "execution_count": 46,
   "id": "e2f29407",
   "metadata": {},
   "outputs": [
    {
     "name": "stdout",
     "output_type": "stream",
     "text": [
      "By using Linear Regression we got:\n",
      "Training data accuracy 0.7568730588000865\n",
      "Testing data accuracy 0.7588257878159548\n"
     ]
    }
   ],
   "source": [
    "from sklearn.linear_model import LinearRegression\n",
    "\n",
    "lr_model = LinearRegression()\n",
    "lr_model.fit(X_train, y_train)\n",
    "print(\"By using Linear Regression we got:\")\n",
    "print(\"Training data accuracy\",lr_model.score(X_train, y_train))\n",
    "print(\"Testing data accuracy\",lr_model.score(X_test, y_test))"
   ]
  },
  {
   "cell_type": "markdown",
   "id": "c6e3d9e7",
   "metadata": {},
   "source": [
    "Saving the model for future use..."
   ]
  },
  {
   "cell_type": "code",
   "execution_count": 51,
   "id": "21adfc18",
   "metadata": {},
   "outputs": [],
   "source": [
    "import pickle"
   ]
  },
  {
   "cell_type": "code",
   "execution_count": 52,
   "id": "e437d965",
   "metadata": {},
   "outputs": [],
   "source": [
    "with open('Housing_Model','wb') as f:\n",
    "    pickle.dump(rfm,f)"
   ]
  },
  {
   "cell_type": "code",
   "execution_count": 53,
   "id": "10ba19db",
   "metadata": {},
   "outputs": [],
   "source": [
    "#Testing the model\n",
    "with open('Housing_Model','rb') as f:\n",
    "    mod=pickle.load(f)"
   ]
  },
  {
   "cell_type": "code",
   "execution_count": 54,
   "id": "329e6f89",
   "metadata": {},
   "outputs": [
    {
     "data": {
      "text/plain": [
       "array([332.18])"
      ]
     },
     "execution_count": 54,
     "metadata": {},
     "output_type": "execute_result"
    }
   ],
   "source": [
    "x=mod.predict([[2010,120,130,3,1,2,2,2005,45000,0,0,1,0,0,0,0,0,1]])\n",
    "x"
   ]
  },
  {
   "cell_type": "code",
   "execution_count": 55,
   "id": "23c26f77",
   "metadata": {},
   "outputs": [
    {
     "name": "stdout",
     "output_type": "stream",
     "text": [
      "332.17999999999995\n"
     ]
    }
   ],
   "source": [
    "print(float(x))"
   ]
  },
  {
   "cell_type": "code",
   "execution_count": null,
   "id": "4a03b0c5",
   "metadata": {},
   "outputs": [],
   "source": []
  },
  {
   "cell_type": "code",
   "execution_count": null,
   "id": "87455dab",
   "metadata": {},
   "outputs": [],
   "source": []
  },
  {
   "cell_type": "code",
   "execution_count": null,
   "id": "42b08835",
   "metadata": {},
   "outputs": [],
   "source": []
  }
 ],
 "metadata": {
  "kernelspec": {
   "display_name": "Python 3 (ipykernel)",
   "language": "python",
   "name": "python3"
  },
  "language_info": {
   "codemirror_mode": {
    "name": "ipython",
    "version": 3
   },
   "file_extension": ".py",
   "mimetype": "text/x-python",
   "name": "python",
   "nbconvert_exporter": "python",
   "pygments_lexer": "ipython3",
   "version": "3.8.9"
  }
 },
 "nbformat": 4,
 "nbformat_minor": 5
}
